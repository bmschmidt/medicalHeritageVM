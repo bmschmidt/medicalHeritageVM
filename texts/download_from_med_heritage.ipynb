{
 "cells": [
  {
   "cell_type": "markdown",
   "metadata": {},
   "source": [
    "## Using the Internet Archive API to access the Medical Heritage Library "
   ]
  },
  {
   "cell_type": "markdown",
   "metadata": {},
   "source": [
    "The Internet Archive offers an API (Application Programming Interface) that makes it easier to access their archives programmatically. Even the [Medical Heritage Library (https://archive.org/details/medicalheritagelibrary)! Using just a few keystrokes we can download thousands of PDFs and analyze them in different ways. This Jupyter Notebook is set up to help you download PDFs from the Medical Heritage Library. "
   ]
  },
  {
   "cell_type": "markdown",
   "metadata": {},
   "source": [
    "First, load the \"internetarchive\" library for python. This library handles communicating with the Internet Archive."
   ]
  },
  {
   "cell_type": "code",
   "execution_count": 1,
   "metadata": {
    "collapsed": true
   },
   "outputs": [],
   "source": [
    "import internetarchive as ia"
   ]
  },
  {
   "cell_type": "markdown",
   "metadata": {},
   "source": [
    "Now we run a search for the Medical Heritage Library, and print out how many documents we found:"
   ]
  },
  {
   "cell_type": "code",
   "execution_count": 2,
   "metadata": {
    "collapsed": false
   },
   "outputs": [
    {
     "name": "stdout",
     "output_type": "stream",
     "text": [
      "139025\n"
     ]
    }
   ],
   "source": [
    "search_results = ia.search_items('collection:medicalheritagelibrary')\n",
    "print(search_results.num_found)"
   ]
  },
  {
   "cell_type": "markdown",
   "metadata": {},
   "source": [
    "You will see that there are over 100,000 collections in the Medical Hertiage Library. Wow! That's a lot of medical history. Internet Archive's API, right now, can only handle 10,000 items at a time so try limiting your results by year. "
   ]
  },
  {
   "cell_type": "code",
   "execution_count": 4,
   "metadata": {
    "collapsed": false
   },
   "outputs": [
    {
     "name": "stdout",
     "output_type": "stream",
     "text": [
      "47\n"
     ]
    }
   ],
   "source": [
    "search_results = ia.search_items('collection:medicalheritagelibrary AND title:attention')\n",
    "print(search_results.num_found)"
   ]
  },
  {
   "cell_type": "markdown",
   "metadata": {},
   "source": [
    "Great! Now we have a little over a little over 80 items. Let's check out what is in that list. \n",
    "\n",
    "Right now, the ```search_results``` variable is just a pointer to the search. But in order to get the actual IDs for all the items in the collection, we need to perform that search and store what it returns in a list:"
   ]
  },
  {
   "cell_type": "code",
   "execution_count": 5,
   "metadata": {
    "collapsed": false
   },
   "outputs": [],
   "source": [
    "search_items = list(search_results)"
   ]
  },
  {
   "cell_type": "markdown",
   "metadata": {},
   "source": [
    "Now let's see what the list contains. This should print out the IDs for first ten items on the list:"
   ]
  },
  {
   "cell_type": "code",
   "execution_count": 6,
   "metadata": {
    "collapsed": false
   },
   "outputs": [
    {
     "name": "stdout",
     "output_type": "stream",
     "text": [
      "ID: 0217316.nlm.nih.gov\n",
      "ID: 101188494.nlm.nih.gov\n",
      "ID: 101525032.nlm.nih.gov\n",
      "ID: 101644556.nlm.nih.gov\n",
      "ID: 101644615.nlm.nih.gov\n",
      "ID: 2543035RX1.nlm.nih.gov\n",
      "ID: 2543035RX2.nlm.nih.gov\n",
      "ID: 2544040R.nlm.nih.gov\n",
      "ID: 2544041R.nlm.nih.gov\n",
      "ID: 2544042R.nlm.nih.gov\n"
     ]
    }
   ],
   "source": [
    "for item in search_items[0:10]:\n",
    "    print(\"ID: {}\".format(item['identifier']))"
   ]
  },
  {
   "cell_type": "markdown",
   "metadata": {
    "collapsed": true
   },
   "source": [
    "Now that we know the IDs of what we're interested in, we can download these items. "
   ]
  },
  {
   "cell_type": "code",
   "execution_count": 7,
   "metadata": {
    "collapsed": false
   },
   "outputs": [
    {
     "name": "stdout",
     "output_type": "stream",
     "text": [
      "Getting file 0217316.pdf...\n",
      "Check!\n",
      "Getting file 101188494.pdf...\n",
      "Check!\n",
      "Getting file 101525032.pdf...\n",
      "Check!\n",
      "Getting file 101644556.pdf...\n",
      "Check!\n",
      "Getting file 101644615.pdf...\n",
      "Check!\n",
      "Getting file 2543035RX1.pdf...\n",
      "Check!\n",
      "Getting file 2543035RX2.pdf...\n",
      "Check!\n",
      "Getting file 2544040R.pdf...\n",
      "Check!\n",
      "Getting file 2544041R.pdf...\n",
      "Check!\n",
      "Getting file 2544042R.pdf...\n",
      "Check!\n"
     ]
    }
   ],
   "source": [
    "import os\n",
    "from requests import ConnectionError\n",
    "\n",
    "\n",
    "directory = \"MedicalHeritagePDF-hysteria\"\n",
    "\n",
    "try:\n",
    "    os.mkdir(directory)\n",
    "except OSError:\n",
    "    pass\n",
    "\n",
    "\n",
    "for search_item in search_items:\n",
    "    item_id = search_item['identifier']\n",
    "    item = ia.get_item(item_id)\n",
    "    if not os.path.exists(directory):\n",
    "        os.makedirs(directory)\n",
    "    try:\n",
    "        item.download(verbose=True, formats=['DjVuTXT', 'MARC','Text PDF','MPEG4'],destdir=directory)\n",
    "    except ConnectionError:\n",
    "        print(\"There's a connection error. Try to get {} again later\")"
   ]
  },
  {
   "cell_type": "markdown",
   "metadata": {},
   "source": [
    "What are the things you can change in this code?\n",
    "\n",
    "1. What formats to download.\n",
    "2. The directory you save to.\n",
    "3. Or--and this requires more explanation--the search terms itself."
   ]
  },
  {
   "cell_type": "markdown",
   "metadata": {},
   "source": [
    "Now, let's say you want to do other types of searches rather than searching by date. Don't worry! You can! \n",
    "\n",
    "You can search for things like: \n",
    "\n",
    "title (the title of the work) \n",
    "ex: title:[civil war]\n",
    "\n",
    "date (the date of the work formatted like so: [YEAR-MONTH-DAY TO YEAR-MONTH-DAY]) \n",
    "ex: date:[1820-01-01 TO 1830-12-31]\n",
    "\n",
    "description (the description of the work)\n",
    "ex: description:photograph\n",
    "\n",
    "addeddate (the date the work was added)\n",
    "ex: addeddate:2016"
   ]
  },
  {
   "cell_type": "code",
   "execution_count": null,
   "metadata": {
    "collapsed": false
   },
   "outputs": [],
   "source": [
    "search_results = ia.search_items('collection:medicalheritagelibrary AND title:medical')\n",
    "print(search_results.num_found)"
   ]
  },
  {
   "cell_type": "code",
   "execution_count": 16,
   "metadata": {
    "collapsed": false
   },
   "outputs": [
    {
     "name": "stdout",
     "output_type": "stream",
     "text": [
      "0217316.nlm.nih.gov:\n",
      " skipping MedicalHeritagePDF-hysteria/0217316.nlm.nih.gov/0217316.nlm.nih.gov_marc.xml, file already exists based on length and date.\n",
      " skipping MedicalHeritagePDF-hysteria/0217316.nlm.nih.gov/0217316_djvu.txt, file already exists based on length and date.\n",
      " downloaded 0217316.nlm.nih.gov/0217316.pdf to MedicalHeritagePDF-hysteria/0217316.nlm.nih.gov/0217316.pdf\n",
      "101188494.nlm.nih.gov:\n",
      " skipping MedicalHeritagePDF-hysteria/101188494.nlm.nih.gov/101188494.nlm.nih.gov_marc.xml, file already exists based on length and date.\n",
      " downloaded 101188494.nlm.nih.gov/101188494.pdf to MedicalHeritagePDF-hysteria/101188494.nlm.nih.gov/101188494.pdf\n",
      " skipping MedicalHeritagePDF-hysteria/101188494.nlm.nih.gov/101188494_djvu.txt, file already exists based on length and date.\n",
      "101525032.nlm.nih.gov:\n",
      " skipping MedicalHeritagePDF-hysteria/101525032.nlm.nih.gov/101525032_djvu.txt, file already exists based on length and date.\n",
      " downloaded 101525032.nlm.nih.gov/101525032.pdf to MedicalHeritagePDF-hysteria/101525032.nlm.nih.gov/101525032.pdf\n",
      " skipping MedicalHeritagePDF-hysteria/101525032.nlm.nih.gov/101525032.nlm.nih.gov_marc.xml, file already exists based on length and date.\n",
      "101644556.nlm.nih.gov:\n",
      " skipping MedicalHeritagePDF-hysteria/101644556.nlm.nih.gov/101644556.nlm.nih.gov_marc.xml, file already exists based on length and date.\n",
      " downloaded 101644556.nlm.nih.gov/101644556.pdf to MedicalHeritagePDF-hysteria/101644556.nlm.nih.gov/101644556.pdf\n",
      " skipping MedicalHeritagePDF-hysteria/101644556.nlm.nih.gov/101644556_djvu.txt, file already exists based on length and date.\n",
      "101644615.nlm.nih.gov:\n",
      " skipping MedicalHeritagePDF-hysteria/101644615.nlm.nih.gov/101644615.nlm.nih.gov_marc.xml, file already exists based on length and date.\n",
      " downloaded 101644615.nlm.nih.gov/101644615.pdf to MedicalHeritagePDF-hysteria/101644615.nlm.nih.gov/101644615.pdf\n",
      " skipping MedicalHeritagePDF-hysteria/101644615.nlm.nih.gov/101644615_djvu.txt, file already exists based on length and date.\n",
      "2543035RX1.nlm.nih.gov:\n",
      " skipping MedicalHeritagePDF-hysteria/2543035RX1.nlm.nih.gov/2543035RX1.nlm.nih.gov_marc.xml, file already exists based on length and date.\n",
      " downloaded 2543035RX1.nlm.nih.gov/2543035RX1.pdf to MedicalHeritagePDF-hysteria/2543035RX1.nlm.nih.gov/2543035RX1.pdf\n",
      " skipping MedicalHeritagePDF-hysteria/2543035RX1.nlm.nih.gov/2543035RX1_djvu.txt, file already exists based on length and date.\n",
      "2543035RX2.nlm.nih.gov:\n",
      " skipping MedicalHeritagePDF-hysteria/2543035RX2.nlm.nih.gov/2543035RX2.nlm.nih.gov_marc.xml, file already exists based on length and date.\n",
      " skipping MedicalHeritagePDF-hysteria/2543035RX2.nlm.nih.gov/2543035RX2_djvu.txt, file already exists based on length and date.\n",
      " downloaded 2543035RX2.nlm.nih.gov/2543035RX2.pdf to MedicalHeritagePDF-hysteria/2543035RX2.nlm.nih.gov/2543035RX2.pdf\n",
      "2544040R.nlm.nih.gov:\n",
      " skipping MedicalHeritagePDF-hysteria/2544040R.nlm.nih.gov/2544040R.nlm.nih.gov_marc.xml, file already exists based on length and date.\n",
      " skipping MedicalHeritagePDF-hysteria/2544040R.nlm.nih.gov/2544040R_djvu.txt, file already exists based on length and date.\n",
      " downloaded 2544040R.nlm.nih.gov/2544040R.pdf to MedicalHeritagePDF-hysteria/2544040R.nlm.nih.gov/2544040R.pdf\n",
      "2544041R.nlm.nih.gov:\n",
      " skipping MedicalHeritagePDF-hysteria/2544041R.nlm.nih.gov/2544041R.nlm.nih.gov_marc.xml, file already exists based on length and date.\n",
      " skipping MedicalHeritagePDF-hysteria/2544041R.nlm.nih.gov/2544041R_djvu.txt, file already exists based on length and date.\n",
      " downloaded 2544041R.nlm.nih.gov/2544041R.pdf to MedicalHeritagePDF-hysteria/2544041R.nlm.nih.gov/2544041R.pdf\n",
      "2544042R.nlm.nih.gov:\n",
      " skipping MedicalHeritagePDF-hysteria/2544042R.nlm.nih.gov/2544042R.nlm.nih.gov_marc.xml, file already exists based on length and date.\n",
      " downloaded 2544042R.nlm.nih.gov/2544042R.pdf to MedicalHeritagePDF-hysteria/2544042R.nlm.nih.gov/2544042R.pdf\n",
      " skipping MedicalHeritagePDF-hysteria/2544042R.nlm.nih.gov/2544042R_djvu.txt, file already exists based on length and date.\n"
     ]
    }
   ],
   "source": []
  },
  {
   "cell_type": "code",
   "execution_count": 15,
   "metadata": {
    "collapsed": false
   },
   "outputs": [
    {
     "data": {
      "text/plain": [
       "[{u'crc32': u'b478d272',\n",
       "  u'format': u'Metadata',\n",
       "  u'md5': u'ad730d5057dc7f2e669864266c56cd5d',\n",
       "  u'mtime': u'1332960952',\n",
       "  u'name': u'2544042R.nlm.nih.gov_marc.xml_meta.txt',\n",
       "  u'sha1': u'6a84d626b5da58c0e8478bf41c252dcb51c35cda',\n",
       "  u'size': u'826',\n",
       "  u'source': u'original'},\n",
       " {u'crc32': u'396c2634',\n",
       "  u'format': u'MARC',\n",
       "  u'md5': u'67226829f6825492ee6c775586efc3b9',\n",
       "  u'mtime': u'1332960952',\n",
       "  u'name': u'2544042R.nlm.nih.gov_marc.xml',\n",
       "  u'sha1': u'5128cddca5711a68876dd45b40038dcdd63266a6',\n",
       "  u'size': u'9320',\n",
       "  u'source': u'original'},\n",
       " {u'crc32': u'482cf668',\n",
       "  u'format': u'Generic Raw Book Zip',\n",
       "  u'md5': u'0831326e8785ad16bba47330c7fb0519',\n",
       "  u'mtime': u'1332964415',\n",
       "  u'name': u'2544042R_images.zip',\n",
       "  u'sha1': u'd2f2ec3ca5eb040558af49a3fa3ebd7917ab16f4',\n",
       "  u'size': u'464280844',\n",
       "  u'source': u'original'},\n",
       " {u'crc32': u'a5641080',\n",
       "  u'format': u'Metadata',\n",
       "  u'md5': u'09a49760b382f4e02cb07443c7565169',\n",
       "  u'mtime': u'1332964415',\n",
       "  u'name': u'2544042R_images.zip_meta.txt',\n",
       "  u'sha1': u'3f11b89cfdb94c9299104047d66c5a5b6ea88c40',\n",
       "  u'size': u'380',\n",
       "  u'source': u'original'},\n",
       " {u'crc32': u'4d1cb65a',\n",
       "  u'format': u'Dublin Core',\n",
       "  u'md5': u'51e31272bd60fc6b938d0f8482d4ed46',\n",
       "  u'mtime': u'1332964478',\n",
       "  u'name': u'2544042R.nlm.nih.gov_dc.xml',\n",
       "  u'sha1': u'97cae17eb0d0b56e65e22d54083fe42647c4fe7d',\n",
       "  u'size': u'2609',\n",
       "  u'source': u'original'},\n",
       " {u'crc32': u'699968ce',\n",
       "  u'format': u'Abbyy GZ',\n",
       "  u'md5': u'4bd978664f661382182c37bf700ea649',\n",
       "  u'mtime': u'1332971018',\n",
       "  u'name': u'2544042R_abbyy.gz',\n",
       "  u'original': u'2544042R_jp2.zip',\n",
       "  u'sha1': u'1c2c11de6b845ec608cabdb5e072a7860e15b7f0',\n",
       "  u'size': u'18694517',\n",
       "  u'source': u'derivative'},\n",
       " {u'crc32': u'b41f0dae',\n",
       "  u'format': u'Text PDF',\n",
       "  u'md5': u'db05fa36e23d9939b70b049b9de1c315',\n",
       "  u'mtime': u'1332974269',\n",
       "  u'name': u'2544042R.pdf',\n",
       "  u'original': u'2544042R_djvu.xml',\n",
       "  u'sha1': u'8d8dc9b7b4b9fb0dbe6dbc1706a7965a664d94f1',\n",
       "  u'size': u'27717141',\n",
       "  u'source': u'derivative'},\n",
       " {u'crc32': u'bf0f14dd',\n",
       "  u'format': u'Single Page Processed JP2 ZIP',\n",
       "  u'md5': u'bc3531cb786bca07349637f27ec6d84f',\n",
       "  u'mtime': u'1332965425',\n",
       "  u'name': u'2544042R_jp2.zip',\n",
       "  u'original': u'2544042R_images.zip',\n",
       "  u'sha1': u'9a132338c8cdfedf6ad0d1b9a45385349e539b06',\n",
       "  u'size': u'157158959',\n",
       "  u'source': u'derivative'},\n",
       " {u'crc32': u'e4f4dd10',\n",
       "  u'format': u'Metadata',\n",
       "  u'md5': u'a90484a22146684eca4e9868c0506f5a',\n",
       "  u'mtime': u'1332974334',\n",
       "  u'name': u'2544042R.nlm.nih.gov_meta.xml',\n",
       "  u'sha1': u'6a7eea18026607ea9a40f453b267f05a7092785d',\n",
       "  u'size': u'2696',\n",
       "  u'source': u'original'},\n",
       " {u'crc32': u'47f6db7c',\n",
       "  u'format': u'DjVu',\n",
       "  u'md5': u'de42590a508118ed0a20740ee3ceaa0f',\n",
       "  u'mtime': u'1332972637',\n",
       "  u'name': u'2544042R.djvu',\n",
       "  u'original': u'2544042R_djvu.xml',\n",
       "  u'sha1': u'0cd00f32e661f4bb531e19debf7b2ff44a64c6e5',\n",
       "  u'size': u'18256959',\n",
       "  u'source': u'derivative'},\n",
       " {u'crc32': u'705a6e0e',\n",
       "  u'format': u'Animated GIF',\n",
       "  u'md5': u'0d90f0066cc82ac202a54b3e9c3ecb56',\n",
       "  u'mtime': u'1332965476',\n",
       "  u'name': u'2544042R.gif',\n",
       "  u'original': u'2544042R_jp2.zip',\n",
       "  u'sha1': u'a5d2b111cb5af365c67bbd1fc9e7585acbcf6602',\n",
       "  u'size': u'333528',\n",
       "  u'source': u'derivative'},\n",
       " {u'crc32': u'9c115efb',\n",
       "  u'format': u'Djvu XML',\n",
       "  u'md5': u'7612ca896b1eb5d1ceba8a4ad07e049f',\n",
       "  u'mtime': u'1332971362',\n",
       "  u'name': u'2544042R_djvu.xml',\n",
       "  u'original': u'2544042R_abbyy.gz',\n",
       "  u'sha1': u'3d172706b050f8feb09f9b428afecfcb19947113',\n",
       "  u'size': u'10423127',\n",
       "  u'source': u'derivative'},\n",
       " {u'crc32': u'e48582da',\n",
       "  u'format': u'EPUB',\n",
       "  u'md5': u'a098097a74487f02cfb1065ae4c93707',\n",
       "  u'mtime': u'1332974297',\n",
       "  u'name': u'2544042R.epub',\n",
       "  u'original': u'2544042R_abbyy.gz',\n",
       "  u'sha1': u'c598f5950ab0e4af1cd14367e626856db04440c2',\n",
       "  u'size': u'568403',\n",
       "  u'source': u'derivative'},\n",
       " {u'crc32': u'25074081',\n",
       "  u'format': u'Scandata',\n",
       "  u'md5': u'a0768d307ca95455190d7a380cf34640',\n",
       "  u'mtime': u'1332972649',\n",
       "  u'name': u'2544042R_scandata.xml',\n",
       "  u'original': u'2544042R_djvu.xml',\n",
       "  u'sha1': u'3e295b145b9e0dd02015890ef237eabf14b934db',\n",
       "  u'size': u'148923',\n",
       "  u'source': u'derivative'},\n",
       " {u'crc32': u'f245bdc8',\n",
       "  u'format': u'DjVuTXT',\n",
       "  u'md5': u'fa4044f8d095efb1241f3cee706888f0',\n",
       "  u'mtime': u'1332974329',\n",
       "  u'name': u'2544042R_djvu.txt',\n",
       "  u'original': u'2544042R.djvu',\n",
       "  u'sha1': u'5d821683ddcc6b804a7968029e1127d9455083c8',\n",
       "  u'size': u'1116027',\n",
       "  u'source': u'derivative'},\n",
       " {u'format': u'Metadata',\n",
       "  u'md5': u'cf3a30e93f2badd741199b08edc3c04a',\n",
       "  u'name': u'2544042R.nlm.nih.gov_files.xml',\n",
       "  u'source': u'original'}]"
      ]
     },
     "execution_count": 15,
     "metadata": {},
     "output_type": "execute_result"
    }
   ],
   "source": [
    "item.files\n"
   ]
  }
 ],
 "metadata": {
  "kernelspec": {
   "display_name": "Python 2",
   "language": "python",
   "name": "python2"
  },
  "language_info": {
   "codemirror_mode": {
    "name": "ipython",
    "version": 2
   },
   "file_extension": ".py",
   "mimetype": "text/x-python",
   "name": "python",
   "nbconvert_exporter": "python",
   "pygments_lexer": "ipython2",
   "version": "2.7.10"
  }
 },
 "nbformat": 4,
 "nbformat_minor": 0
}
